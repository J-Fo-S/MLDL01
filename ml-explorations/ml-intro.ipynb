{
 "cells": [
  {
   "cell_type": "markdown",
   "metadata": {},
   "source": [
    "### Where to Start with Machine Learning?\n",
    "\n",
    "This is an honestly difficult question - and you'll see a variety of different approaches. Some start \"bottom-up\", meaning one tries to learn all of the components of machine learning before actually attempting it. Others start \"top-down\", meaning one runs machine learning programs or projects before understanding much of how it works, and then tries to understand the components from the most general \"down\" to the highly specific.\n",
    "\n",
    "We will tend more towards the top-down approach, but inject focus on specific concepts that are both technical and part of the machine learning terminology. Machine learning involves the fields of applied mathematics, computer science, statistics, information theory, and neuroscience - and that's at a minimum! So, be **patient** with yourself as you take your first steps into this interesting and challenging world. There is a great deal to learn, explore and refine.\n",
    "\n",
    "Anyways, it would seem a good idea to start with the idea of **learning** before attempting anything further. What is \"learning\" for a computer (e.g., a machine)?\n",
    "\n",
    "The basic concept is that *in order to learn there must be:  \n",
    "* a **target** (like a learning goal or task)\n",
    "* **training** on target samples\n",
    "* **testing** performance on new samples \n",
    "* a **cost**, also called **loss**, for correction/direction \n",
    "\n",
    "Let's say we want a machine learning program that can tell if an image contains a dog or a cat. This is our **target**, and we want to achieve this goal with as high accuracy (little error) as possible. We will **train** our program on sample images of dogs and cats that we have pre-labeled. After training, we will **test** our program (also called a **model**) on new sample images of dogs and cats that we have not yet shown our program. During both the traning and testing processes, we must help our program learn by applying **cost**, or **loss**, when it makes a mistake. Conceptually, this not unlike a classic education model you find at school. \n",
    "\n",
    "Let's have a look at how this all works in a very basic ML program (adapted from: )\n",
    "\n"
   ]
  },
  {
   "cell_type": "code",
   "execution_count": 252,
   "metadata": {
    "collapsed": true
   },
   "outputs": [],
   "source": [
    "import tensorflow as tf\n",
    "import numpy as np\n",
    "import matplotlib.pyplot as plt\n",
    "from collections import OrderedDict"
   ]
  },
  {
   "cell_type": "code",
   "execution_count": 253,
   "metadata": {
    "collapsed": true
   },
   "outputs": [],
   "source": [
    "# Parameters# Param \n",
    "learning_rate = 0.01\n",
    "training_epochs = 1000\n",
    "display_step = 50"
   ]
  },
  {
   "cell_type": "code",
   "execution_count": 254,
   "metadata": {
    "collapsed": true
   },
   "outputs": [],
   "source": [
    "# Training Data# Train \n",
    "\n",
    "train_X = np.asarray([3.3,4.4,5.5,6.71,6.93,4.168,9.779,6.182,7.59,2.167,\n",
    "                         7.042,10.791,5.313,7.997,5.654,9.27,3.1])\n",
    "train_Y = np.asarray([1.7,2.76,2.09,3.19,1.694,1.573,3.366,2.596,2.53,1.221,\n",
    "                         2.827,3.465,1.65,2.904,2.42,2.94,1.3])\n",
    "n_samples = train_X.shape[0]"
   ]
  },
  {
   "cell_type": "code",
   "execution_count": 255,
   "metadata": {
    "collapsed": true
   },
   "outputs": [],
   "source": [
    "# tf Graph Input\n",
    "X = tf.placeholder(\"float\")\n",
    "Y = tf.placeholder(\"float\")\n",
    "\n",
    "# Set model weights\n",
    "W = tf.Variable(np.random.randn(), name=\"weight\")\n",
    "b = tf.Variable(np.random.randn(), name=\"bias\")"
   ]
  },
  {
   "cell_type": "code",
   "execution_count": 256,
   "metadata": {
    "collapsed": true
   },
   "outputs": [],
   "source": [
    "# Construct a linear model to predict output of Y given X\n",
    "Y_pred = tf.add(tf.multiply(X, W), b)"
   ]
  },
  {
   "cell_type": "code",
   "execution_count": 257,
   "metadata": {
    "collapsed": true
   },
   "outputs": [],
   "source": [
    "# Mean squared error\n",
    "cost = tf.reduce_sum(tf.pow(Y_pred-Y, 2))/(n_samples)\n",
    "# Gradient descent applies our cost/loss function for us\n",
    "optimizer = tf.train.GradientDescentOptimizer(learning_rate).minimize(cost)"
   ]
  },
  {
   "cell_type": "code",
   "execution_count": 258,
   "metadata": {
    "collapsed": true
   },
   "outputs": [],
   "source": [
    "# Initialize the variables (i.e. assign their default value)\n",
    "init = tf.global_variables_initializer()"
   ]
  },
  {
   "cell_type": "code",
   "execution_count": 259,
   "metadata": {
    "scrolled": true
   },
   "outputs": [
    {
     "name": "stdout",
     "output_type": "stream",
     "text": [
      "Epoch: 0050 cost= 0.173283219 W= 0.301377 b= 0.412392\n",
      "Epoch: 0100 cost= 0.169117048 W= 0.295125 b= 0.457965\n",
      "Epoch: 0150 cost= 0.165865675 W= 0.2896 b= 0.498233\n",
      "Epoch: 0200 cost= 0.163328290 W= 0.284718 b= 0.533812\n",
      "Epoch: 0250 cost= 0.161348194 W= 0.280405 b= 0.565249\n",
      "Epoch: 0300 cost= 0.159803152 W= 0.276594 b= 0.593026\n",
      "Epoch: 0350 cost= 0.158597633 W= 0.273227 b= 0.617569\n",
      "Epoch: 0400 cost= 0.157657087 W= 0.270251 b= 0.639255\n",
      "Epoch: 0450 cost= 0.156923354 W= 0.267622 b= 0.658416\n",
      "Epoch: 0500 cost= 0.156350985 W= 0.265299 b= 0.675348\n",
      "Epoch: 0550 cost= 0.155904606 W= 0.263247 b= 0.690307\n",
      "Epoch: 0600 cost= 0.155556455 W= 0.261434 b= 0.703525\n",
      "Epoch: 0650 cost= 0.155285001 W= 0.259831 b= 0.715205\n",
      "Epoch: 0700 cost= 0.155073330 W= 0.258415 b= 0.725524\n",
      "Epoch: 0750 cost= 0.154908404 W= 0.257164 b= 0.734642\n",
      "Epoch: 0800 cost= 0.154779837 W= 0.256059 b= 0.742698\n",
      "Epoch: 0850 cost= 0.154679686 W= 0.255082 b= 0.749816\n",
      "Epoch: 0900 cost= 0.154601738 W= 0.254219 b= 0.756106\n",
      "Epoch: 0950 cost= 0.154540986 W= 0.253457 b= 0.761663\n",
      "Epoch: 1000 cost= 0.154493690 W= 0.252783 b= 0.766575\n",
      "Optimization Finished!\n",
      "Training cost= 0.154494 W= 0.252783 b= 0.766575 \n",
      "\n"
     ]
    },
    {
     "data": {
      "image/png": "[encoded data removed]",
      "text/plain": [
       "<matplotlib.figure.Figure at 0x18164779b0>"
      ]
     },
     "metadata": {},
     "output_type": "display_data"
    }
   ],
   "source": [
    "\n",
    "# Start training# Start \n",
    "with tf.Session() as sess:\n",
    "    sess.run(init)\n",
    "\n",
    "    # Fit all training data\n",
    "    for epoch in range(training_epochs):\n",
    "        for (x, y) in zip(train_X, train_Y):\n",
    "            sess.run(optimizer, feed_dict={X: x, Y: y})\n",
    "\n",
    "        #Display logs per epoch step\n",
    "        if (epoch+1) % display_step == 0:\n",
    "            c = sess.run(cost, feed_dict={X: train_X, Y:train_Y})\n",
    "            print(\"Epoch:\", '%04d' % (epoch+1), \"cost=\", \"{:.9f}\".format(c), \\\n",
    "                \"W=\", sess.run(W), \"b=\", sess.run(b))\n",
    "\n",
    "    print(\"Optimization Finished!\")\n",
    "    training_cost = sess.run(cost, feed_dict={X: train_X, Y: train_Y})\n",
    "    print(\"Training cost=\", training_cost, \"W=\", sess.run(W), \"b=\", sess.run(b), '\\n')\n",
    "\n",
    "    #Plot sample data\n",
    "    plt.plot(train_X, train_Y, 'ro', label='Sample data')\n",
    "    \n",
    "    #Plot linear prediction\n",
    "    plt.plot(train_X, sess.run(W) * train_X + sess.run(b), dashes=[2, 2], color='blue', label='Fitted line')\n",
    "    plt.legend()\n",
    "    plt.show()"
   ]
  },
  {
   "cell_type": "markdown",
   "metadata": {},
   "source": [
    "You can compare this 'toy' model with Google's widget here: https://developers.google.com/machine-learning/crash-course/reducing-loss/playground-exercise\n",
    "\n",
    "What is essential to notice is how the cost updates the **weight** and **bias** of our predicted output for Y. This allows our program to \"fit\" the data by charting a line through the central relationship between X and Y samples.\n",
    "\n",
    "Yet, our program is quite limited. A straight line can only separate very linear data. What if our data is non-linear (e.g. curved) or if has significant outliers (extreme values)? A linear cost function won't work - Let's see if we can fit a quadratic cost function to such a data collection. "
   ]
  },
  {
   "cell_type": "code",
   "execution_count": 260,
   "metadata": {
    "collapsed": true
   },
   "outputs": [],
   "source": [
    "#reset our graph values\n",
    "tf.reset_default_graph()"
   ]
  },
  {
   "cell_type": "code",
   "execution_count": 261,
   "metadata": {
    "collapsed": true
   },
   "outputs": [],
   "source": [
    "train_X = np.linspace(-np.pi, np.pi, 100)\n",
    "\n",
    "train_Y = []\n",
    "for _ in range(len(train_X)):\n",
    "    train_Y = np.sin(train_X) + np.random.uniform(-0.5, 0.5, len(train_X))\n",
    "    \n",
    "n_samples = train_X.shape[0]"
   ]
  },
  {
   "cell_type": "code",
   "execution_count": 262,
   "metadata": {
    "collapsed": true
   },
   "outputs": [],
   "source": [
    "# tf Graph Input\n",
    "X = tf.placeholder(\"float\")\n",
    "Y = tf.placeholder(\"float\")\n",
    "\n",
    "# Set model weights\n",
    "W = tf.Variable(np.random.randn())\n",
    "b = tf.Variable(np.random.randn())"
   ]
  },
  {
   "cell_type": "code",
   "execution_count": 263,
   "metadata": {
    "collapsed": true,
    "scrolled": true
   },
   "outputs": [],
   "source": [
    "# Construct a polynomial model to predict output of Y given X\n",
    "Y_pred = X**2 + X*W + b\n",
    "#Y_pred = tf.add(tf.add(tf.multiply(X, X), tf.multiply(X, W)), b)"
   ]
  },
  {
   "cell_type": "code",
   "execution_count": 264,
   "metadata": {
    "collapsed": true
   },
   "outputs": [],
   "source": [
    "# Mean squared error\n",
    "cost = tf.reduce_sum(tf.pow(Y_pred-Y, 2))/n_samples\n",
    "# Gradient descent applies our cost/loss function for us\n",
    "optimizer = tf.train.GradientDescentOptimizer(learning_rate).minimize(cost)"
   ]
  },
  {
   "cell_type": "code",
   "execution_count": 265,
   "metadata": {
    "collapsed": true
   },
   "outputs": [],
   "source": [
    "# Initialize the variables (i.e. assign their default value)\n",
    "init = tf.global_variables_initializer()"
   ]
  },
  {
   "cell_type": "code",
   "execution_count": 266,
   "metadata": {},
   "outputs": [
    {
     "name": "stdout",
     "output_type": "stream",
     "text": [
      "Epoch: 0050 cost= 10.136187553 W= 0.224288 b= -2.73139\n",
      "Epoch: 0100 cost= 9.745885849 W= 0.281384 b= -3.14527\n",
      "Epoch: 0150 cost= 9.696566582 W= 0.283997 b= -3.29737\n",
      "Epoch: 0200 cost= 9.690202713 W= 0.284319 b= -3.3533\n",
      "Epoch: 0250 cost= 9.689440727 W= 0.284415 b= -3.37387\n",
      "Epoch: 0300 cost= 9.689373970 W= 0.28445 b= -3.38144\n",
      "Epoch: 0350 cost= 9.689377785 W= 0.284463 b= -3.38421\n",
      "Epoch: 0400 cost= 9.689383507 W= 0.284467 b= -3.38523\n",
      "Epoch: 0450 cost= 9.689386368 W= 0.284468 b= -3.38562\n",
      "Epoch: 0500 cost= 9.689387321 W= 0.284469 b= -3.38577\n",
      "Epoch: 0550 cost= 9.689387321 W= 0.284469 b= -3.38584\n",
      "Epoch: 0600 cost= 9.689387321 W= 0.28447 b= -3.38585\n",
      "Epoch: 0650 cost= 9.689387321 W= 0.28447 b= -3.38585\n",
      "Epoch: 0700 cost= 9.689387321 W= 0.28447 b= -3.38585\n",
      "Epoch: 0750 cost= 9.689387321 W= 0.28447 b= -3.38585\n",
      "Epoch: 0800 cost= 9.689387321 W= 0.28447 b= -3.38585\n",
      "Epoch: 0850 cost= 9.689387321 W= 0.28447 b= -3.38585\n",
      "Epoch: 0900 cost= 9.689387321 W= 0.28447 b= -3.38585\n",
      "Epoch: 0950 cost= 9.689387321 W= 0.28447 b= -3.38585\n",
      "Epoch: 1000 cost= 9.689387321 W= 0.28447 b= -3.38585\n",
      "Optimization Finished!\n",
      "Training cost= 9.68939 W= 0.28447 b= -3.38585 \n",
      "\n"
     ]
    },
    {
     "data": {
      "image/png": "[encoded data removed]",
      "text/plain": [
       "<matplotlib.figure.Figure at 0x18168d9b70>"
      ]
     },
     "metadata": {},
     "output_type": "display_data"
    }
   ],
   "source": [
    "\n",
    "# Start training# Start \n",
    "with tf.Session() as sess:\n",
    "    sess.run(init)\n",
    "\n",
    "    # Fit all training data\n",
    "    for epoch in range(training_epochs):\n",
    "        for (x, y) in zip(train_X, train_Y):\n",
    "            sess.run(optimizer, feed_dict={X: x, Y: y})\n",
    "\n",
    "        #Display logs per epoch step\n",
    "        if (epoch+1) % display_step == 0:\n",
    "            c = sess.run(cost, feed_dict={X: train_X, Y:train_Y})\n",
    "            print(\"Epoch:\", '%04d' % (epoch+1), \"cost=\", \"{:.9f}\".format(c), \\\n",
    "                \"W=\", sess.run(W), \"b=\", sess.run(b))\n",
    "\n",
    "    print(\"Optimization Finished!\")\n",
    "    training_cost = sess.run(cost, feed_dict={X: train_X, Y: train_Y})\n",
    "    print(\"Training cost=\", training_cost, \"W=\", sess.run(W), \"b=\", sess.run(b), '\\n')\n",
    "\n",
    "    #Plot sample data\n",
    "    plt.plot(train_X, train_Y, 'ro', label='Sample data')\n",
    "    #Plot linear prediction\n",
    "    plt.plot(train_X, train_X * train_X + sess.run(W) * train_X + sess.run(b), dashes=[2, 2], color='blue', label='Fitted line')\n",
    "    #plt.plot(train_X, sess.run(Y_pred), dashes=[2, 2], color='blue', label='Fitted line')\n",
    "    \n",
    "    # all this just to avoid duplicating legend entries\n",
    "    handles, labels = plt.gca().get_legend_handles_labels()\n",
    "    by_label = OrderedDict(zip(labels, handles))\n",
    "    plt.legend(by_label.values(), by_label.keys())\n",
    "    \n",
    "    plt.show()"
   ]
  },
  {
   "cell_type": "markdown",
   "metadata": {},
   "source": [
    "This does a bad job of fitting. Visually, we can see it curve, but not responsively enough at all. Also, outliers in the data seem to begin pulling it once the values are far enough from 0. But, our cost function is barely changing, another sign that our function is **underfitting**. It is not capable of matching the curvature. **Overfitting**, on the other hand, is when our cost function is *too* complex for our data. This can often be shown as curving too much or in the wrong directions. "
   ]
  },
  {
   "cell_type": "code",
   "execution_count": 267,
   "metadata": {
    "collapsed": true
   },
   "outputs": [],
   "source": [
    "#reset our graph \n",
    "tf.reset_default_graph()"
   ]
  },
  {
   "cell_type": "code",
   "execution_count": 268,
   "metadata": {
    "collapsed": true
   },
   "outputs": [],
   "source": [
    "train_X = np.linspace(-np.pi, np.pi, 100)\n",
    "\n",
    "train_Y = []\n",
    "for _ in range(len(train_X)):\n",
    "    train_Y = np.sin(train_X) + np.random.uniform(-0.5, 0.5, len(train_X))\n",
    "    \n",
    "n_samples = train_X.shape[0]"
   ]
  },
  {
   "cell_type": "code",
   "execution_count": 269,
   "metadata": {
    "collapsed": true
   },
   "outputs": [],
   "source": [
    "# tf Graph Input\n",
    "X = tf.placeholder(\"float\")\n",
    "Y = tf.placeholder(\"float\")\n",
    "\n",
    "# Set model weights\n",
    "W = tf.Variable(np.random.randn())\n",
    "b = tf.Variable(np.random.randn())"
   ]
  },
  {
   "cell_type": "code",
   "execution_count": 270,
   "metadata": {
    "collapsed": true,
    "scrolled": true
   },
   "outputs": [],
   "source": [
    "# Construct a polynomial model to predict output of Y given X\n",
    "Y_pred = X**3 + X*W + b\n",
    "#Y_pred = tf.add(tf.add(tf.multiply(X, X), tf.multiply(X, W)), b)"
   ]
  },
  {
   "cell_type": "code",
   "execution_count": 271,
   "metadata": {
    "collapsed": true
   },
   "outputs": [],
   "source": [
    "# Mean squared error\n",
    "cost = tf.reduce_sum(tf.pow(Y_pred-Y, 2))/n_samples\n",
    "# Gradient descent applies our cost/loss function for us\n",
    "optimizer = tf.train.GradientDescentOptimizer(learning_rate).minimize(cost)"
   ]
  },
  {
   "cell_type": "code",
   "execution_count": 272,
   "metadata": {
    "collapsed": true
   },
   "outputs": [],
   "source": [
    "# Initialize the variables (i.e. assign their default value)\n",
    "init = tf.global_variables_initializer()"
   ]
  },
  {
   "cell_type": "code",
   "execution_count": 273,
   "metadata": {
    "scrolled": false
   },
   "outputs": [
    {
     "name": "stdout",
     "output_type": "stream",
     "text": [
      "Epoch: 0050 cost= 28.270498276 W= -5.59787 b= 0.791425\n",
      "Epoch: 0100 cost= 27.614004135 W= -5.72999 b= 0.248086\n",
      "Epoch: 0150 cost= 27.543407440 W= -5.73376 b= 0.0480831\n",
      "Epoch: 0200 cost= 27.537574768 W= -5.7336 b= -0.0254695\n",
      "Epoch: 0250 cost= 27.538148880 W= -5.73348 b= -0.0525168\n",
      "Epoch: 0300 cost= 27.538730621 W= -5.73343 b= -0.0624626\n",
      "Epoch: 0350 cost= 27.538993835 W= -5.73342 b= -0.0661198\n",
      "Epoch: 0400 cost= 27.539096832 W= -5.73342 b= -0.0674649\n",
      "Epoch: 0450 cost= 27.539134979 W= -5.73341 b= -0.0679593\n",
      "Epoch: 0500 cost= 27.539150238 W= -5.7334 b= -0.0681414\n",
      "Epoch: 0550 cost= 27.539155960 W= -5.7334 b= -0.0682085\n",
      "Epoch: 0600 cost= 27.539157867 W= -5.7334 b= -0.0682331\n",
      "Epoch: 0650 cost= 27.539157867 W= -5.7334 b= -0.0682419\n",
      "Epoch: 0700 cost= 27.539159775 W= -5.7334 b= -0.0682453\n",
      "Epoch: 0750 cost= 27.539157867 W= -5.7334 b= -0.0682465\n",
      "Epoch: 0800 cost= 27.539157867 W= -5.7334 b= -0.0682473\n",
      "Epoch: 0850 cost= 27.539157867 W= -5.7334 b= -0.0682473\n",
      "Epoch: 0900 cost= 27.539157867 W= -5.7334 b= -0.0682473\n",
      "Epoch: 0950 cost= 27.539157867 W= -5.7334 b= -0.0682473\n",
      "Epoch: 1000 cost= 27.539157867 W= -5.7334 b= -0.0682473\n",
      "Optimization Finished!\n",
      "Training cost= 27.5392 W= -5.7334 b= -0.0682473 \n",
      "\n"
     ]
    },
    {
     "data": {
      "image/png": "[encoded data removed]",
      "text/plain": [
       "<matplotlib.figure.Figure at 0x1816477f98>"
      ]
     },
     "metadata": {},
     "output_type": "display_data"
    }
   ],
   "source": [
    "\n",
    "# Start training# Start \n",
    "with tf.Session() as sess:\n",
    "    sess.run(init)\n",
    "\n",
    "    # Fit all training data\n",
    "    for epoch in range(training_epochs):\n",
    "        for (x, y) in zip(train_X, train_Y):\n",
    "            sess.run(optimizer, feed_dict={X: x, Y: y})\n",
    "\n",
    "        #Display logs per epoch step\n",
    "        if (epoch+1) % display_step == 0:\n",
    "            c = sess.run(cost, feed_dict={X: train_X, Y:train_Y})\n",
    "            print(\"Epoch:\", '%04d' % (epoch+1), \"cost=\", \"{:.9f}\".format(c), \\\n",
    "                \"W=\", sess.run(W), \"b=\", sess.run(b))\n",
    "\n",
    "    print(\"Optimization Finished!\")\n",
    "    training_cost = sess.run(cost, feed_dict={X: train_X, Y: train_Y})\n",
    "    print(\"Training cost=\", training_cost, \"W=\", sess.run(W), \"b=\", sess.run(b), '\\n')\n",
    "\n",
    "    #Plot sample data\n",
    "    plt.plot(train_X, train_Y, 'ro', label='Sample data')\n",
    "    #Plot linear prediction\n",
    "    plt.plot(train_X, train_X**3 + sess.run(W) * train_X + sess.run(b), dashes=[2, 2], color='blue', label='Fitted line')\n",
    "    #plt.plot(train_X, sess.run(Y_pred), dashes=[2, 2], color='blue', label='Fitted line')\n",
    "    \n",
    "    # all this just to avoid duplicating legend entries\n",
    "    handles, labels = plt.gca().get_legend_handles_labels()\n",
    "    by_label = OrderedDict(zip(labels, handles))\n",
    "    plt.legend(by_label.values(), by_label.keys())\n",
    "    \n",
    "    plt.show()"
   ]
  },
  {
   "cell_type": "markdown",
   "metadata": {},
   "source": [
    "So now we are **overfitting**, where our cost function is over-responding to our data. We could fine-tune this by changing the learning rate (**try!**), but it turns out that polynomial expressions aren't the best method for our model. For instance, we even know the data samples features beforehand and are challenged to get a curve that fits it. Many times, we won't know such statistics on the data samples beforehand. If we square X, it can only be positive. Yet when we cube it, values get too large. "
   ]
  },
  {
   "cell_type": "markdown",
   "metadata": {},
   "source": [
    "### Nonlinear Activation Functions\n",
    "\n",
    "Thankfully better methods have been discovered - namely applying \"activation\" functions to the input (X). These activation functions are generally **nonlinear**, and common examples are tanh, sigmoid and relu. See below"
   ]
  },
  {
   "cell_type": "code",
   "execution_count": 274,
   "metadata": {
    "collapsed": true
   },
   "outputs": [],
   "source": [
    "#reset our graph values\n",
    "tf.reset_default_graph()"
   ]
  },
  {
   "cell_type": "code",
   "execution_count": 275,
   "metadata": {},
   "outputs": [
    {
     "data": {
      "image/png": "[encoded data removed]",
      "text/plain": [
       "<matplotlib.figure.Figure at 0x18159aef98>"
      ]
     },
     "metadata": {},
     "output_type": "display_data"
    }
   ],
   "source": [
    "# psst another way of running Tensorflow without having to constantly call the graph into session \n",
    "# InteractiveSession needs calling just once\n",
    "#sess =  tf.InteractiveSession()\n",
    "\n",
    "x_ = np.linspace(-6,6,1000)\n",
    "with tf.Session() as sess:\n",
    "    plt.plot(x_, tf.nn.tanh(x_).eval(), label='tanh')\n",
    "    plt.plot(x_, tf.nn.sigmoid(x_).eval(), label='sigmoid')\n",
    "    plt.plot(x_, tf.nn.relu(x_).eval(), label='relu')\n",
    "plt.legend(loc='lower right')\n",
    "plt.xlim([-6, 6])\n",
    "plt.ylim([-2, 2])\n",
    "plt.xlabel('Input')\n",
    "plt.ylabel('Output')\n",
    "plt.grid('on')\n",
    "plt.show()\n",
    "\n"
   ]
  },
  {
   "cell_type": "code",
   "execution_count": 278,
   "metadata": {
    "collapsed": true
   },
   "outputs": [],
   "source": [
    "#reset our graph values\n",
    "tf.reset_default_graph()\n",
    "#sess.close()"
   ]
  },
  {
   "cell_type": "code",
   "execution_count": 279,
   "metadata": {
    "collapsed": true
   },
   "outputs": [],
   "source": [
    "# Parameters# Param \n",
    "learning_rate = 0.02\n",
    "training_epochs = 2000\n",
    "display_step = 50"
   ]
  },
  {
   "cell_type": "code",
   "execution_count": 280,
   "metadata": {
    "scrolled": true
   },
   "outputs": [
    {
     "name": "stdout",
     "output_type": "stream",
     "text": [
      "Epoch: 0050 cost= 0.204788342 W= 0.453449 b= -0.0992362\n",
      "Epoch: 0100 cost= 0.186963737 W= 0.563904 b= -0.0319332\n",
      "Epoch: 0150 cost= 0.182055518 W= 0.629901 b= -0.0101477\n",
      "Epoch: 0200 cost= 0.179631695 W= 0.678434 b= -0.00249391\n",
      "Epoch: 0250 cost= 0.178137094 W= 0.717013 b= -0.00014902\n",
      "Epoch: 0300 cost= 0.177118078 W= 0.748948 b= 3.69213e-05\n",
      "Epoch: 0350 cost= 0.176384360 W= 0.776047 b= -0.000670549\n",
      "Epoch: 0400 cost= 0.175837442 W= 0.799432 b= -0.00172683\n",
      "Epoch: 0450 cost= 0.175419882 W= 0.819856 b= -0.00288849\n",
      "Epoch: 0500 cost= 0.175095141 W= 0.837862 b= -0.0040457\n",
      "Epoch: 0550 cost= 0.174838945 W= 0.853853 b= -0.00515033\n",
      "Epoch: 0600 cost= 0.174634546 W= 0.868135 b= -0.00618322\n",
      "Epoch: 0650 cost= 0.174469888 W= 0.880954 b= -0.00713913\n",
      "Epoch: 0700 cost= 0.174336165 W= 0.892507 b= -0.00801936\n",
      "Epoch: 0750 cost= 0.174226835 W= 0.902953 b= -0.00882808\n",
      "Epoch: 0800 cost= 0.174136892 W= 0.912428 b= -0.00957047\n",
      "Epoch: 0850 cost= 0.174062535 W= 0.921046 b= -0.0102521\n",
      "Epoch: 0900 cost= 0.174000740 W= 0.928902 b= -0.0108782\n",
      "Epoch: 0950 cost= 0.173949257 W= 0.936073 b= -0.0114539\n",
      "Epoch: 1000 cost= 0.173906192 W= 0.942634 b= -0.0119834\n",
      "Epoch: 1050 cost= 0.173870012 W= 0.948647 b= -0.0124711\n",
      "Epoch: 1100 cost= 0.173839554 W= 0.954167 b= -0.0129205\n",
      "Epoch: 1150 cost= 0.173813835 W= 0.95924 b= -0.0133351\n",
      "Epoch: 1200 cost= 0.173792079 W= 0.96391 b= -0.0137181\n",
      "Epoch: 1250 cost= 0.173773646 W= 0.968208 b= -0.0140719\n",
      "Epoch: 1300 cost= 0.173757970 W= 0.972171 b= -0.014399\n",
      "Epoch: 1350 cost= 0.173744664 W= 0.975826 b= -0.0147016\n",
      "Epoch: 1400 cost= 0.173733324 W= 0.979202 b= -0.0149817\n",
      "Epoch: 1450 cost= 0.173723638 W= 0.98232 b= -0.0152411\n",
      "Epoch: 1500 cost= 0.173715398 W= 0.985204 b= -0.0154814\n",
      "Epoch: 1550 cost= 0.173708305 W= 0.987872 b= -0.0157041\n",
      "Epoch: 1600 cost= 0.173702240 W= 0.990342 b= -0.0159107\n",
      "Epoch: 1650 cost= 0.173697054 W= 0.992628 b= -0.0161024\n",
      "Epoch: 1700 cost= 0.173692629 W= 0.99475 b= -0.0162803\n",
      "Epoch: 1750 cost= 0.173688829 W= 0.996709 b= -0.0164454\n",
      "Epoch: 1800 cost= 0.173685551 W= 0.998532 b= -0.0165986\n",
      "Epoch: 1850 cost= 0.173682705 W= 1.00023 b= -0.0167411\n",
      "Epoch: 1900 cost= 0.173680305 W= 1.0018 b= -0.0168735\n",
      "Epoch: 1950 cost= 0.173678204 W= 1.00326 b= -0.0169967\n",
      "Epoch: 2000 cost= 0.173676416 W= 1.00461 b= -0.0171111\n",
      "Optimization Finished!\n",
      "Training cost= 0.173676 W= 1.00461 b= -0.0171111 \n",
      "\n"
     ]
    },
    {
     "data": {
      "image/png": "[encoded data removed]",
      "text/plain": [
       "<matplotlib.figure.Figure at 0x1816497940>"
      ]
     },
     "metadata": {},
     "output_type": "display_data"
    }
   ],
   "source": [
    "train_X = np.linspace(-np.pi, np.pi, 100)\n",
    "\n",
    "train_Y = []\n",
    "for _ in range(len(train_X)):\n",
    "    train_Y = np.sin(train_X) + np.random.uniform(-0.5, 0.5, len(train_X))\n",
    "    \n",
    "n_samples = train_X.shape[0]\n",
    "    \n",
    "# tf Graph Input\n",
    "X = tf.placeholder(\"float\")\n",
    "Y = tf.placeholder(\"float\")\n",
    "\n",
    "# We're going to multiply our input by 10 values, creating an \"inner layer\"\n",
    "# of n_neurons neurons.\n",
    "#n_neurons = 10\n",
    "W = tf.Variable(np.random.randn())\n",
    "\n",
    "# and allow for n_neurons additions on each of those neurons\n",
    "b = tf.Variable(np.random.randn())\n",
    "\n",
    "# Instead of just multiplying, we'll put our n_neuron multiplications through a non-linearity, the tanh function.\n",
    "h = tf.nn.tanh(X*W + b)\n",
    "\n",
    "Y_pred = h\n",
    "\n",
    "#Y_pred = tf.reduce_sum(h, 1)\n",
    "\n",
    "# Mean squared error\n",
    "cost = tf.reduce_sum(tf.pow(Y_pred-Y, 2))/n_samples\n",
    "# Gradient descent applies our cost/loss function for us\n",
    "optimizer = tf.train.GradientDescentOptimizer(learning_rate).minimize(cost)\n",
    "\n",
    "# Initialize the variables (i.e. assign their default value)\n",
    "init = tf.global_variables_initializer()\n",
    "\n",
    "\n",
    "# Start training# Start \n",
    "with tf.Session() as sess:\n",
    "    sess.run(init)\n",
    "\n",
    "    # Fit all training data\n",
    "    for epoch in range(training_epochs):\n",
    "        for (x, y) in zip(train_X, train_Y):\n",
    "            sess.run(optimizer, feed_dict={X: x, Y: y})\n",
    "\n",
    "        #Display logs per epoch step\n",
    "        if (epoch+1) % display_step == 0:\n",
    "            c = sess.run(cost, feed_dict={X: train_X, Y:train_Y})\n",
    "            print(\"Epoch:\", '%04d' % (epoch+1), \"cost=\", \"{:.9f}\".format(c), \\\n",
    "                \"W=\", sess.run(W), \"b=\", sess.run(b))\n",
    "\n",
    "    print(\"Optimization Finished!\")\n",
    "    training_cost = sess.run(cost, feed_dict={X: train_X, Y: train_Y})\n",
    "    print(\"Training cost=\", training_cost, \"W=\", sess.run(W), \"b=\", sess.run(b), '\\n')\n",
    "\n",
    "    #Plot sample data\n",
    "    plt.plot(train_X, train_Y, 'ro', label='Sample data')\n",
    "    #Plot linear prediction\n",
    "    plt.plot(train_X, np.tanh(sess.run(W) * train_X + sess.run(b)), dashes=[2, 2], color='blue', label='Fitted line')\n",
    "    #plt.plot(train_X, sess.run(Y_pred), dashes=[2, 2], color='blue', label='Fitted line')\n",
    "    \n",
    "    # all this just to avoid duplicating legend entries\n",
    "    handles, labels = plt.gca().get_legend_handles_labels()\n",
    "    by_label = OrderedDict(zip(labels, handles))\n",
    "    plt.legend(by_label.values(), by_label.keys())\n",
    "    \n",
    "    plt.show()"
   ]
  },
  {
   "cell_type": "markdown",
   "metadata": {},
   "source": [
    "A better fit. A big reason why is that if we inspect the output of the tanh function, we can see that it squashes everything into a range of -1 to 1. \n",
    "\n",
    "However, it is still far from an ideal fit, as a single tanh **layer** is not able to fit the positive to negative left and right curves of our data. This is where deep networks - with many layers - can help. Stay tuned..\n",
    "\n",
    "TO DO - add toy neural net to make activation func fit - try Mital's implementation"
   ]
  }
 ],
 "metadata": {
  "kernelspec": {
   "display_name": "Python 3",
   "language": "python",
   "name": "python3"
  },
  "language_info": {
   "codemirror_mode": {
    "name": "ipython",
    "version": 3
   },
   "file_extension": ".py",
   "mimetype": "text/x-python",
   "name": "python",
   "nbconvert_exporter": "python",
   "pygments_lexer": "ipython3",
   "version": "3.6.3"
  }
 },
 "nbformat": 4,
 "nbformat_minor": 2
}
